{
  "nbformat": 4,
  "nbformat_minor": 0,
  "metadata": {
    "colab": {
      "name": "Untitled1.ipynb",
      "provenance": []
    },
    "kernelspec": {
      "name": "python3",
      "display_name": "Python 3"
    }
  },
  "cells": [
    {
      "cell_type": "code",
      "metadata": {
        "id": "dWsQpus4nnl5",
        "colab_type": "code",
        "colab": {}
      },
      "source": [
        "#importing\n",
        "import numpy\n",
        "from PIL import Image, ImageDraw\n",
        "from matplotlib import pyplot as plt\n",
        "import random"
      ],
      "execution_count": 0,
      "outputs": []
    },
    {
      "cell_type": "code",
      "metadata": {
        "id": "gc1WloREnsA9",
        "colab_type": "code",
        "colab": {}
      },
      "source": [
        "final_img = plt.imread('/content/fighter.jpeg')\n",
        "if len(final_img.shape) == 2:  # image is grayscale\n",
        "    final_img = numpy.stack((final_img,)*3, axis=-1)  # convert to RGB\n",
        "initial_img = numpy.zeros((512,512,3))"
      ],
      "execution_count": 0,
      "outputs": []
    },
    {
      "cell_type": "code",
      "metadata": {
        "id": "dT-dsXcwnxGg",
        "colab_type": "code",
        "colab": {}
      },
      "source": [
        "final_sum = numpy.sum(final_img)\n",
        "#fitness function\n",
        "def fitness(initial_img_array):\n",
        "    #my fitness function is the sum of absolute difference between the two images\n",
        "    return 1 / numpy.sum(numpy.abs(final_img - initial_img_array))"
      ],
      "execution_count": 0,
      "outputs": []
    },
    {
      "cell_type": "code",
      "metadata": {
        "id": "0GN0vJeDs5Xs",
        "colab_type": "code",
        "colab": {}
      },
      "source": [
        "#rectangles\n",
        "common = [(109,123,166),\n",
        "          (166,135, 78),\n",
        "          (217,191,143),\n",
        "          (115, 89, 57),\n",
        "          (155,164,191),\n",
        "          (217,193,180),\n",
        "          (199,123,166)]\n",
        "def draw_rectangle(initial_img, width=10, height=10):\n",
        "    #upperleft\n",
        "    x0 = random.randint(0, 512 - width)\n",
        "    y0 = random.randint(0, 512 - height)\n",
        "    #upperright\n",
        "    x1 = x0 + width\n",
        "    y1 = y0\n",
        "    #lowerleft\n",
        "    x2 = x0\n",
        "    y2 = y0 + height\n",
        "    #lowerright\n",
        "    x3 = x1\n",
        "    y3 = y1 + height\n",
        "\n",
        "    #colour\n",
        "#     if random.randint(0,100) < 30:\n",
        "#         c = random.choice(common)\n",
        "#     else:\n",
        "    c0 = random.randint(0, 512)\n",
        "    c1 = random.randint(0, 512)\n",
        "    c2 = random.randint(0, 512)\n",
        "    c = (c0, c1, c2)\n",
        "\n",
        "    copy = Image.fromarray(numpy.uint8(initial_img*255), 'RGB')\n",
        "    ImageDraw.Draw(copy).rectangle([(x0,y0), (x3,y3)], fill=c)\n",
        "    return numpy.asarray(copy)"
      ],
      "execution_count": 0,
      "outputs": []
    },
    {
      "cell_type": "code",
      "metadata": {
        "id": "qDhdwlHDvW3S",
        "colab_type": "code",
        "colab": {}
      },
      "source": [
        "#initializing population\n",
        "def populate(size=10, rectangles=2, width=30, height=30):\n",
        "    population = []\n",
        "    for _ in range(size):\n",
        "        specie = initial_img\n",
        "        for _ in range(rectangles):\n",
        "            specie = draw_rectangle(specie, width=width, height=height)\n",
        "        population.append(specie)\n",
        "    return population"
      ],
      "execution_count": 0,
      "outputs": []
    },
    {
      "cell_type": "code",
      "metadata": {
        "id": "8DIyIoX9vxiM",
        "colab_type": "code",
        "colab": {}
      },
      "source": [
        "#crossover Uniform function\n",
        "def crossover(p1, p2, uniform=False):\n",
        "    assert p1.shape == p2.shape\n",
        "    if uniform:\n",
        "        take = numpy.random.randint(low=0, high=2, size=p1.shape[:2])[..., numpy.newaxis]\n",
        "        child1 = take * p1 + (1-take) * p2\n",
        "        child2 = (1-take) * p1 + take * p2\n",
        "    else:\n",
        "        prob = random.random()\n",
        "        size = min(len(p1), len(p2))\n",
        "        child1 = p1.copy()\n",
        "        child2 = p2.copy()\n",
        "        for i in range(size):\n",
        "            if random.random() < prob:\n",
        "                child1[i], child2[i] = child2[i], child1[i]\n",
        "    return child1, child2"
      ],
      "execution_count": 0,
      "outputs": []
    },
    {
      "cell_type": "code",
      "metadata": {
        "id": "79tR_fEtv28p",
        "colab_type": "code",
        "colab": {}
      },
      "source": [
        "def mutate(img, rectangles=3, width=40, height=40):\n",
        "    for _ in range(rectangles):\n",
        "        img = draw_rectangle(img, width=width, height=height)\n",
        "    return img"
      ],
      "execution_count": 0,
      "outputs": []
    },
    {
      "cell_type": "code",
      "metadata": {
        "id": "sQhEga-dv-Zi",
        "colab_type": "code",
        "colab": {}
      },
      "source": [
        "population = populate(size=30, rectangles=3)\n",
        "gens = 5000000\n",
        "\n",
        "for i in range(gens):\n",
        "    #calculating fitness function for each\n",
        "    fits = []\n",
        "    for specie in population:\n",
        "        score = fitness(specie)\n",
        "        fits.append((specie, score))\n",
        "    #sorting\n",
        "    sorted_pop = sorted(fits, key=lambda x: x[1])\n",
        "\n",
        "    #selecting top 5\n",
        "    best_pop = sorted_pop[:5] # population size = 2*k^2\n",
        "    images, scores = zip(*best_pop)\n",
        "  \n",
        "    if i%100 == 0:\n",
        "      print('Generation', i)\n",
        "      plt.imshow(images[0])\n",
        "      plt.show()\n",
        "      print(scores[0])\n",
        "\n",
        "    children_array = []\n",
        "    for img1 in images:\n",
        "        for img2 in images:\n",
        "            child1, child2 = crossover(img1, img2, uniform=True)\n",
        "            children_array.append(child1)\n",
        "            children_array.append(child2)\n",
        "\n",
        "    #mutating\n",
        "    mutated = []\n",
        "    for child in children_array:\n",
        "        mutated_one = mutate(child, rectangles=1, width=50//(i//200+1), height=50//(i//200+1))\n",
        "        mutated.append(mutated_one)\n",
        "    population = mutated"
      ],
      "execution_count": 0,
      "outputs": []
    }
  ]
}